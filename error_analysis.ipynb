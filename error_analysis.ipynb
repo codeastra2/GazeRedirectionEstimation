{
 "cells": [
  {
   "cell_type": "code",
   "execution_count": 1,
   "source": [
    "# File for doing error analysis on the gaze estimation\n",
    "# predictions on augmented dataset. \n",
    "# Author : Srinivas Kumar (srinivas1996kumar@gmail.com) \n",
    "\n",
    "import h5py\n",
    "import numpy as np\n",
    "import pickle\n",
    "\n",
    "import matplotlib.pyplot as plt\n"
   ],
   "outputs": [],
   "metadata": {}
  },
  {
   "cell_type": "code",
   "execution_count": 29,
   "source": [
    "# Getting the original gazes and original image count\n",
    "\n",
    "gaze_list = []\n",
    "gaze_original_list = []\n",
    "\n",
    "person_cnt = 0\n",
    "\n",
    "#Change to the appropriate samples once the redirections have been done. \n",
    "aug_file = \"/bigpool/fachpraktikum2021/group5/dir_srinivas/outputs_sted/Redirected_samples1.h5\"\n",
    "total_imgs = 0\n",
    "\n",
    "with h5py.File(aug_file, 'r') as f:\n",
    "\n",
    "    \n",
    "    for idx, (person_id, group) in enumerate(f.items()):\n",
    "        #print(group[\"image\"].shape)\n",
    "\n",
    "        total_imgs += len(group[\"image\"])\n",
    "        \n",
    "        person_cnt += 1\n",
    "\n",
    "\n",
    "        gaze_list.extend( group[\"gaze\"][:])\n",
    "        #gaze_original_list.append(group[\"gaze\"][:])\n",
    "\n",
    "        #print(\"Finished processing \" + str(person_cnt))\n",
    "\n",
    "print(\"The total number of images are: \" + str(total_imgs))\n",
    "print(\"The person count is: \" + str(person_cnt))\n",
    "\n",
    "\n",
    "total_imgs = 0\n",
    "person_cnt = 0\n",
    "\n",
    "with h5py.File(\"/bigpool/fachpraktikum2021/group5/dir_srinivas/outputs_sted/GazeCapture.h5\", 'r') as f:\n",
    "\n",
    "    \n",
    "    for idx, (person_id, group) in enumerate(f.items()):\n",
    "        #print(group[\"image\"].shape)\n",
    "\n",
    "        \n",
    "        person_cnt += 1\n",
    "        total_imgs += len(group[\"pixels\"])\n",
    "\n",
    "\n",
    "        #gaze_list.extend( group[\"gaze\"][:])\n",
    "        gaze_original_list.extend(group[\"labels\"][:, :2])\n",
    "\n",
    "        #print(\"Finished processing \" + str(person_cnt))\n",
    "\n",
    "print(\"The total number of images are: \" + str(total_imgs))\n",
    "print(\"The person count is: \" + str(person_cnt))\n",
    "\n",
    "\n"
   ],
   "outputs": [
    {
     "output_type": "stream",
     "name": "stdout",
     "text": [
      "The total number of images are: 2758166\n",
      "The person count is: 1177\n",
      "The total number of images are: 1634443\n",
      "The person count is: 1364\n"
     ]
    }
   ],
   "metadata": {
    "tags": []
   }
  },
  {
   "cell_type": "code",
   "execution_count": 35,
   "source": [
    "# Some metrics on number of values outside a range.  \n",
    "# (This cell is for the original dataset not for the augmented dataset)\n",
    "\n",
    "gaze_original_np = np.array(gaze_original_list)\n",
    "\n",
    "# Conversion from radians to degrees \n",
    "gaze_np = gaze_original_np*(180/ np.pi)\n",
    "\n",
    "pitch_original_np = gaze_np[:, 0]\n",
    "yaw_original_np = gaze_np[:, 1]\n",
    "\n",
    "print(\"The len is \" + str(len(pitch_original_np)))\n",
    "print(\"The max pitch is : \" + str(np.max(pitch_original_np)))\n",
    "print(\"The max yaw is: \" + str(np.max(yaw_original_np)))\n",
    "print(\"The min pitch is : \" + str(np.min(pitch_original_np)))\n",
    "print(\"The min yaw is: \" + str(np.min(yaw_original_np)))\n",
    "\n",
    "min_ang = -20\n",
    "max_ang = 20\n",
    "\n",
    "# The number of values outside the range for either pitch/ yaw. \n",
    "lesser = pitch_original_np < min_ang\n",
    "greater = pitch_original_np > max_ang \n",
    "\n",
    "condition1 = np.logical_or(lesser, greater)\n",
    "#print(condition1)\n",
    "\n",
    "lesser = yaw_original_np < min_ang\n",
    "greater = yaw_original_np > max_ang \n",
    "\n",
    "condition2 = np.logical_or(lesser, greater)\n",
    "#print(condition2)\n",
    "\n",
    "condition = np.logical_or(condition1, condition2)\n",
    "\n",
    "print(\"The number of values outside the range(-20, 20) is \"  + str(np.sum(condition)))\n",
    "\n"
   ],
   "outputs": [
    {
     "output_type": "stream",
     "name": "stdout",
     "text": [
      "The len is 1634443\n",
      "The max pitch is : 49.524464\n",
      "The max yaw is: 47.646915\n",
      "The min pitch is : -41.620586\n",
      "The min yaw is: -45.41518\n",
      "The number of values outside the range(-20, 20) is 97496\n"
     ]
    }
   ],
   "metadata": {}
  },
  {
   "cell_type": "code",
   "execution_count": 36,
   "source": [
    "# Some metrics on number of values outside a range.  \n",
    "# (This cell is for the augmented dataset)\n",
    "\n",
    "\n",
    "\n",
    "gaze_np = np.array(gaze_list)\n",
    "\n",
    "# Conversion from radians to degrees \n",
    "gaze_np = gaze_np*(180/ np.pi)\n",
    "\n",
    "pitch_np = gaze_np[:, 0]\n",
    "yaw_np = gaze_np[:, 1]\n",
    "\n",
    "print(\"The max pitch is : \" + str(np.max(pitch_np)))\n",
    "print(\"The max yaw is: \" + str(np.max(yaw_np)))\n",
    "print(\"The min pitch is : \" + str(np.min(pitch_np)))\n",
    "print(\"The min yaw is: \" + str(np.min(yaw_np)))\n",
    "\n",
    "\n",
    "min_ang = -20\n",
    "max_ang = 20\n",
    "\n",
    "\n",
    "lesser = pitch_np < min_ang\n",
    "greater = pitch_np > max_ang \n",
    "\n",
    "condition1 = np.logical_or(lesser, greater)\n",
    "#print(condition1)\n",
    "\n",
    "lesser = yaw_np < min_ang\n",
    "greater = yaw_np > max_ang \n",
    "\n",
    "condition2 = np.logical_or(lesser, greater)\n",
    "#print(condition2)\n",
    "\n",
    "condition = np.logical_or(condition1, condition2)\n",
    "\n",
    "print(\"The number of values outside the range(-20, 20) is \"  + str(np.sum(condition)))"
   ],
   "outputs": [
    {
     "output_type": "stream",
     "name": "stdout",
     "text": [
      "The max pitch is : 50.07624\n",
      "The max yaw is: 48.275383\n",
      "The min pitch is : -44.063137\n",
      "The min yaw is: -45.41518\n",
      "The number of values outside the range(-20, 20) is 168448\n"
     ]
    }
   ],
   "metadata": {}
  },
  {
   "cell_type": "code",
   "execution_count": null,
   "source": [
    "# The number of predictions displaying high error. \n",
    "\n",
    "# Load in the prediction losses for the Augmented Dataset\n",
    "with open('/bigpool/fachpraktikum2021/group5/dir_srinivas/outputs_sted/loss_2303196', 'rb') as f:\n",
    "    loss_list = pickle.load(f)\n",
    "\n",
    "loses_np = np.array(loss_list)\n",
    "losses_mean = np.mean(loses_np)\n",
    "losses_std = np.std(loses_np)\n",
    "\n",
    "# Since the state of art is 4.3 degrees \n",
    "baseline_deg = 4.3\n",
    "\n",
    "# Error Percentages for mean + (n)*std\n",
    "error_per_1 = []\n",
    "error_per_2 = []\n",
    "error_per_3 = []\n",
    "\n",
    "# Error percentage for baseline\n",
    "error_per_baseline = []\n",
    "\n",
    "\n",
    "threshold_list = []\n",
    "sample_cnt_list = []\n",
    "\n",
    "for threshold in range(10, 50):\n",
    "    # Vary the threshold from 10 degrees to 50 degrees and for all the values outside this range count \n",
    "    # the number of values displaying high error. \n",
    "\n",
    "    min_ang = -threshold\n",
    "    max_ang = threshold\n",
    "\n",
    "\n",
    "    lesser = pitch_np < min_ang\n",
    "    greater = pitch_np > max_ang \n",
    "\n",
    "    condition1 = np.logical_or(lesser, greater)\n",
    "    #print(condition1)\n",
    "\n",
    "    lesser = yaw_np < min_ang\n",
    "    greater = yaw_np > max_ang \n",
    "\n",
    "    condition2 = np.logical_or(lesser, greater)\n",
    "    #print(condition2)\n",
    "\n",
    "    condition = np.logical_or(condition1, condition2)\n",
    "\n",
    "    #print(\"The number of values outside the range is \"  + str(np.sum(condition)))\n",
    "\n",
    "\n",
    "    # All the samples displaying high error(i.e loss > mean + n*(std))\n",
    "\n",
    "    high_error1 = np.sum(loses_np[condition] > losses_mean + 1*losses_std)\n",
    "    high_error2 = np.sum(loses_np[condition] > losses_mean + 2*losses_std)\n",
    "    high_error3 = np.sum(loses_np[condition] > losses_mean + 3*losses_std)\n",
    "\n",
    "    high_error_baseline = np.sum(loses_np[condition] >  baseline_deg)\n",
    "\n",
    "    sample_cnt = np.sum(condition)\n",
    "\n",
    "    # Now count the percentages \n",
    "    \n",
    "    error_per_1.append(high_error1/sample_cnt)\n",
    "    error_per_2.append(high_error2/sample_cnt)\n",
    "    error_per_3.append(high_error3/sample_cnt)\n",
    "    error_per_baseline.append(high_error_baseline/ sample_cnt)\n",
    "\n",
    "\n",
    "    # Useful for plotting later on\n",
    "    threshold_list.append(threshold)\n",
    "    sample_cnt_list.append(sample_cnt)\n",
    "    #print(\"The sample count is \" + str(sample_cnt))\n",
    "\n"
   ],
   "outputs": [],
   "metadata": {}
  },
  {
   "cell_type": "code",
   "execution_count": 56,
   "source": [
    "#Note that this is for 30 degrees since we start from 10.\n",
    "print(sample_cnt_list[20])\n",
    "\n",
    "\n",
    "print(losses_mean + losses_std)\n",
    "print(losses_mean + 2*losses_std)\n",
    "\n"
   ],
   "outputs": [
    {
     "output_type": "stream",
     "name": "stdout",
     "text": [
      "8853\n",
      "5.70443471405585\n",
      "8.206063898339105\n"
     ]
    }
   ],
   "metadata": {}
  },
  {
   "cell_type": "code",
   "execution_count": 61,
   "source": [
    "#Plotting the number of images against the number of values outside a given range \n",
    "\n",
    "plt.close('all')\n",
    "\n",
    "fig, ax = plt.subplots(tight_layout=True)\n",
    "\n",
    "p1,  = ax.plot(threshold_list[0:20], sample_cnt_list[0:20], color='blue', marker='o', label='Number of samples with high error/Total number of samples outside range')\n",
    "\n",
    "ax.set_title(\"Number of images vs Pitch,Yaw Threshold\")\n",
    "ax.set_xlabel(\"Threshold of the Pitch,Yaw range(In degrees)\")\n",
    "ax.set_ylabel(\"Number of iamges ouside threshold\")\n",
    "\n",
    "ax.ticklabel_format(style='plain')\n",
    "\n",
    "ax.grid(True)\n",
    "\n",
    "fig.savefig('/bigpool/fachpraktikum2021/group5/dir_srinivas/STED-gaze/Gaze_Estimation/plots/' + 'N_Images_vs_PitchYaw_threshold.jpg',\n",
    "            )"
   ],
   "outputs": [
    {
     "output_type": "display_data",
     "data": {
      "text/plain": [
       "<Figure size 432x288 with 1 Axes>"
      ],
      "image/png": "[encoded data removed]"
     },
     "metadata": {
      "needs_background": "light"
     }
    }
   ],
   "metadata": {}
  },
  {
   "cell_type": "code",
   "execution_count": 68,
   "source": [
    "\n",
    "# Plotting the ratio of samples displaying high error vs threshold\n",
    "# This is done so since we want to find the max threshold beyond which we expereince very high error. \n",
    "\n",
    "plt.close('all')\n",
    "\n",
    "fig, ax = plt.subplots()\n",
    "\n",
    "p1,  = ax.plot(threshold_list[0:20], error_per_1[0:20], color='blue', marker='o', label='Number of samples with high error/\\nTotal number of samples outside range')\n",
    "#p2,  = plt.plot(threshold_list[0:20], error_per_2[0:20], color='red', marker='o', label='Number of samples with high error/Total number of samples outside range')\n",
    "\n",
    "#p4,  = plt.plot(threshold_list[0:20], error_per_baseline[0:20], color='black', marker='x', label='Number of samples with high error/Total number of samples outside range')\n",
    "\n",
    "#ax.set_yticks(np.arange(0, 1, 0.1))\n",
    "\n",
    "\n",
    "ax.set_title(\"Error Ratio vs Pitch/Yaw Angle Threshold\")\n",
    "ax.set_xlabel(\"Threshold of the Pitch/Yaw range(In degrees)\")\n",
    "ax.set_ylabel(\"Ration of N(high error)/N(outside range)\")\n",
    "\n",
    "#ax.legend(handles=[p1], title='Legend', bbox_to_anchor=(1.05, 1), loc='upper left')\n",
    "\n",
    "ax.grid(True)\n",
    "\n",
    "fig.savefig('/bigpool/fachpraktikum2021/group5/dir_srinivas/STED-gaze/Gaze_Estimation/plots/' + 'Error_Ratio_vs_PitchYaw_threshold.jpg',\n",
    "            )"
   ],
   "outputs": [
    {
     "output_type": "display_data",
     "data": {
      "text/plain": [
       "<Figure size 432x288 with 1 Axes>"
      ],
      "image/png": "[encoded data removed]"
     },
     "metadata": {
      "needs_background": "light"
     }
    }
   ],
   "metadata": {}
  },
  {
   "cell_type": "code",
   "execution_count": null,
   "source": [],
   "outputs": [],
   "metadata": {}
  }
 ],
 "metadata": {
  "interpreter": {
   "hash": "0a7e8266d4960bf55ec4202778d20d6fb4fd9d14c12b2b3e2041a81f30d16324"
  },
  "kernelspec": {
   "name": "python3",
   "display_name": "Python 3.8.0 64-bit ('venv38': venv)"
  },
  "language_info": {
   "codemirror_mode": {
    "name": "ipython",
    "version": 3
   },
   "file_extension": ".py",
   "mimetype": "text/x-python",
   "name": "python",
   "nbconvert_exporter": "python",
   "pygments_lexer": "ipython3",
   "version": "3.8.0"
  },
  "orig_nbformat": 4
 },
 "nbformat": 4,
 "nbformat_minor": 2
}