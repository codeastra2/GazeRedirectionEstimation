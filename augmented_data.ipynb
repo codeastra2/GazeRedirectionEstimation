{
 "metadata": {
  "language_info": {
   "codemirror_mode": {
    "name": "ipython",
    "version": 3
   },
   "file_extension": ".py",
   "mimetype": "text/x-python",
   "name": "python",
   "nbconvert_exporter": "python",
   "pygments_lexer": "ipython3",
   "version": "3.8.0"
  },
  "orig_nbformat": 4,
  "kernelspec": {
   "name": "python3",
   "display_name": "Python 3.8.0 64-bit ('venv38': venv)"
  },
  "interpreter": {
   "hash": "0a7e8266d4960bf55ec4202778d20d6fb4fd9d14c12b2b3e2041a81f30d16324"
  }
 },
 "nbformat": 4,
 "nbformat_minor": 2,
 "cells": [
  {
   "cell_type": "code",
   "execution_count": 1,
   "metadata": {},
   "outputs": [],
   "source": [
    "import h5py\n",
    "import cv2\n",
    "import numpy as np\n",
    "\n"
   ]
  },
  {
   "cell_type": "code",
   "execution_count": 10,
   "metadata": {
    "tags": []
   },
   "outputs": [
    {
     "output_type": "stream",
     "name": "stdout",
     "text": [
      "The total number of images are: 3048\n"
     ]
    }
   ],
   "source": [
    "aug_file = \"/bigpool/fachpraktikum2021/group5/dir_srinivas/outputs_sted/Redirected_samples.h5\"\n",
    "total_imgs = 0\n",
    "with h5py.File(aug_file, 'r') as f:\n",
    "\n",
    "    \n",
    "    for idx, (person_id, group) in enumerate(f.items()):\n",
    "        #print(group[\"image\"].shape)\n",
    "\n",
    "        total_imgs += group[\"image\"][0][:].shape[0]\n",
    "\n",
    "        if idx < 3:\n",
    "            #group[\"image\"] = np.transpose(group[\"image\"], [0, 2, 3, 1])\n",
    "            \n",
    "            first_image = group[\"image\"][0][:]\n",
    "            first_image = np.transpose(first_image, [1, 2, 0])\n",
    "            first_image = first_image[:, : , ::-1]\n",
    "\n",
    "            #print(\"Blah Blah \" + str(first_image.shape))\n",
    "            #print(first_image)\n",
    "            #print(\"***************************************\")\n",
    "\n",
    "            cv2.imwrite(\"/bigpool/fachpraktikum2021/group5/dir_srinivas/outputs_sted/augmented_\" + str(idx) + \".png\", 255*first_image)\n",
    "\n",
    "print(\"The total number of images are: \" + str(total_imgs))\n"
   ]
  },
  {
   "cell_type": "code",
   "execution_count": null,
   "metadata": {},
   "outputs": [],
   "source": []
  }
 ]
}