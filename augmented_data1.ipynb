{
 "cells": [
  {
   "cell_type": "code",
   "execution_count": 2,
   "metadata": {},
   "outputs": [],
   "source": [
    "import h5py\n",
    "import cv2\n",
    "import numpy as np\n",
    "import os\n",
    "import sys\n",
    "import inspect\n",
    "\n",
    "\n",
    "currentdir = os.path.dirname(os.path.abspath(inspect.getfile(inspect.currentframe())))\n",
    "parentdir = os.path.dirname(currentdir)\n",
    "sys.path.insert(0, parentdir) \n",
    "\n",
    "from models import STED\n",
    "from utils import load_model, script_init_common\n",
    "from dataset_augmented import HDFDataset2\n",
    "from dataset import HDFDataset\n",
    "import torch\n",
    "\n",
    "device = torch.device(\"cuda:0\" if torch.cuda.is_available() else \"cpu\")\n",
    "\n",
    "\n",
    "\n"
   ]
  },
  {
   "cell_type": "code",
   "execution_count": 3,
   "metadata": {},
   "outputs": [
    {
     "data": {
      "text/plain": [
       "'script_init_common()\\n\\nnetwork = STED().to(device)\\nload_model(network, \"/bigpool/fachpraktikum2021/group5/dir_srinivas/outputs_sted/checkpoints/206865.pt\")'"
      ]
     },
     "execution_count": 3,
     "metadata": {},
     "output_type": "execute_result"
    }
   ],
   "source": [
    "from core import DefaultConfig\n",
    "\n",
    "config = DefaultConfig()\n",
    "aug_file = \"/bigpool/fachpraktikum2021/group5/dir_srinivas/outputs_sted/Redirected_samples1.h5\"\n",
    "#hdf2 = HDFDataset2(aug_file)\n",
    "\n",
    "'''script_init_common()\n",
    "\n",
    "network = STED().to(device)\n",
    "load_model(network, \"/bigpool/fachpraktikum2021/group5/dir_srinivas/outputs_sted/checkpoints/206865.pt\")'''"
   ]
  },
  {
   "cell_type": "code",
   "execution_count": 5,
   "metadata": {},
   "outputs": [],
   "source": [
    "hdf = HDFDataset(aug_file)\n"
   ]
  },
  {
   "cell_type": "code",
   "execution_count": 4,
   "metadata": {
    "tags": []
   },
   "outputs": [
    {
     "name": "stdout",
     "output_type": "stream",
     "text": [
      "THe group is : <KeysViewHDF5 ['gaze', 'head', 'image', 'real']>\n",
      "The shape of the image is:  (198, 3, 128, 128)\n",
      "The total number of images are: 2758166\n"
     ]
    }
   ],
   "source": [
    "total_imgs = 0\n",
    "\n",
    "gaze = []\n",
    "\n",
    "with h5py.File(aug_file, 'r') as f:\n",
    "\n",
    "    \n",
    "    for idx, (person_id, group) in enumerate(f.items()):\n",
    "        #print(group[\"image\"].shape)\n",
    "\n",
    "        total_imgs += len(group[\"image\"])\n",
    "        gaze.extend(group[\"gaze\"][:].tolist())\n",
    "\n",
    "        if idx < 1:\n",
    "            #group[\"image\"] = np.transpose(group[\"image\"], [0, 2, 3, 1])\n",
    "            print(\"THe group is : \" +  str(group.keys()))\n",
    "            print(\"The shape of the image is:  \" + str(group[\"image\"][:].shape))\n",
    "\n",
    "            for cnt in range(len(group[\"image\"])):\n",
    "\n",
    "                first_image = group[\"image\"][cnt][:]\n",
    "                first_image = np.transpose(first_image, [1, 2, 0])\n",
    "                first_image = first_image[:, : , ::-1]\n",
    "\n",
    "                second_image = group[\"image\"][10][:]\n",
    "                seoond_image = np.transpose(second_image, [1, 2, 0])\n",
    "                second_image = second_image[:, : , ::-1]\n",
    "\n",
    "                #print(\"Are the gazes qual for th 0th and 10 images??\")\n",
    "                #print( group[\"gaze\"][6][:] - group[\"gaze\"][10][:])\n",
    "                #print(group[\"image\"][6][:] - group[\"image\"][10][:])\n",
    "\n",
    "                #print(\"Blah Blah \" + str(first_image.shape))\n",
    "                #print(first_image)\n",
    "                #print(\"***************************************\")\n",
    "\n",
    "                cv2.imwrite(\"/bigpool/fachpraktikum2021/group5/dir_srinivas/outputs_sted/augmented_\" + str(cnt) + \".png\", 255*first_image)\n",
    "                #cv2.imwrite(\"/bigpool/fachpraktikum2021/group5/dir_srinivas/outputs_sted/augmented_10\" + str(idx) + \".png\", 255*second_image)\n",
    "\n",
    "\n",
    "print(\"The total number of images are: \" + str(total_imgs))\n"
   ]
  },
  {
   "cell_type": "code",
   "execution_count": 7,
   "metadata": {},
   "outputs": [
    {
     "name": "stdout",
     "output_type": "stream",
     "text": [
      "5699\n",
      "11358\n"
     ]
    }
   ],
   "source": [
    "gaze_ang = (np.array(gaze)*((180 / np.pi)))\n",
    "\n",
    "print((len(gaze_ang[gaze_ang[:, 0] > 25])))\n",
    "\n",
    "\n",
    "print((len(gaze_ang[gaze_ang[:, 1] > 25])))"
   ]
  },
  {
   "cell_type": "code",
   "execution_count": null,
   "metadata": {},
   "outputs": [],
   "source": []
  }
 ],
 "metadata": {
  "interpreter": {
   "hash": "0a7e8266d4960bf55ec4202778d20d6fb4fd9d14c12b2b3e2041a81f30d16324"
  },
  "kernelspec": {
   "display_name": "Python 3.8.0 64-bit ('venv38': venv)",
   "name": "python3"
  },
  "language_info": {
   "codemirror_mode": {
    "name": "ipython",
    "version": 3
   },
   "file_extension": ".py",
   "mimetype": "text/x-python",
   "name": "python",
   "nbconvert_exporter": "python",
   "pygments_lexer": "ipython3",
   "version": "3.8.0"
  },
  "orig_nbformat": 4
 },
 "nbformat": 4,
 "nbformat_minor": 2
}