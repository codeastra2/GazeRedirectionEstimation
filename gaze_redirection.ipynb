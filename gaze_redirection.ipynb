{
 "cells": [
  {
   "cell_type": "code",
   "execution_count": 2,
   "metadata": {},
   "outputs": [],
   "source": [
    "import pickle\n",
    "\n",
    "\n",
    "results_file = \"/bigpool/fachpraktikum2021/group5/dir_srinivas/STED-gaze/test_losses.pickle\"\n",
    "\n",
    "results = pickle.load(open(results_file, 'rb'))"
   ]
  },
  {
   "cell_type": "code",
   "execution_count": 3,
   "metadata": {},
   "outputs": [
    {
     "name": "stdout",
     "output_type": "stream",
     "text": [
      "OrderedDict([('p00gaze_a', 3.346325), ('p00head_a', 1.4165552), ('p00head_to_gaze', 8.230167), ('p00gaze_to_head', 5.293803), ('p00gaze_disentangle', 3.8413794), ('p00head_disentangle', 3.845516), ('p00head_redirection', 31.1126), ('p00gaze_redirection', 34.75793), ('p00lpips', 0.20180331), ('p00l1', 0.2719955), ('p00lpips_all', 0.15727983), ('p00l1_all', 0.16278762), ('p01gaze_a', 4.689333), ('p01head_a', 1.2069839), ('p01head_to_gaze', 8.037256), ('p01gaze_to_head', 4.83577), ('p01gaze_disentangle', 4.305522), ('p01head_disentangle', 4.0650673), ('p01head_redirection', 16.740206), ('p01gaze_redirection', 45.359333), ('p01lpips', 0.23225294), ('p01l1', 0.34790516), ('p01lpips_all', 0.1978013), ('p01l1_all', 0.2440866), ('p02gaze_a', 5.7054906), ('p02head_a', 1.0558763), ('p02head_to_gaze', 7.928445), ('p02gaze_to_head', 4.7363977), ('p02gaze_disentangle', 3.5929873), ('p02head_disentangle', 3.4731073), ('p02head_redirection', 25.78601), ('p02gaze_redirection', 38.342518), ('p02lpips', 0.28657946), ('p02l1', 0.42695397), ('p02lpips_all', 0.22815003), ('p02l1_all', 0.19351779), ('p03gaze_a', 6.7409387), ('p03head_a', 0.88345945), ('p03head_to_gaze', 8.977919), ('p03gaze_to_head', 4.9466143), ('p03gaze_disentangle', 3.9912894), ('p03head_disentangle', 3.58735), ('p03head_redirection', 33.326767), ('p03gaze_redirection', 46.830067), ('p03lpips', 0.25958997), ('p03l1', 0.441759), ('p03lpips_all', 0.19580528), ('p03l1_all', 0.23024434), ('p04gaze_a', 3.8389032), ('p04head_a', 0.8756672), ('p04head_to_gaze', 8.038705), ('p04gaze_to_head', 5.151138), ('p04gaze_disentangle', 4.1064267), ('p04head_disentangle', 4.107329), ('p04head_redirection', 29.033009), ('p04gaze_redirection', 44.32038), ('p04lpips', 0.30706176), ('p04l1', 0.47130144), ('p04lpips_all', 0.24238254), ('p04l1_all', 0.20836474), ('p05gaze_a', 4.426212), ('p05head_a', 0.96454936), ('p05head_to_gaze', 8.792686), ('p05gaze_to_head', 5.3985248), ('p05gaze_disentangle', 4.032084), ('p05head_disentangle', 3.8862205), ('p05head_redirection', 31.239302), ('p05gaze_redirection', 46.30256), ('p05lpips', 0.26875073), ('p05l1', 0.51154685), ('p05lpips_all', 0.18317808), ('p05l1_all', 0.18866016), ('p06gaze_a', 3.489402), ('p06head_a', 1.3961139), ('p06head_to_gaze', 7.8765225), ('p06gaze_to_head', 5.046825), ('p06gaze_disentangle', 4.0786066), ('p06head_disentangle', 3.8423796), ('p06head_redirection', 25.354979), ('p06gaze_redirection', 40.319565), ('p06lpips', 0.26332748), ('p06l1', 0.43603647), ('p06lpips_all', 0.17617439), ('p06l1_all', 0.20000996), ('p07gaze_a', 4.726648), ('p07head_a', 1.2600827), ('p07head_to_gaze', 9.75909), ('p07gaze_to_head', 5.694485), ('p07gaze_disentangle', 4.6491637), ('p07head_disentangle', 4.222403), ('p07head_redirection', 39.88368), ('p07gaze_redirection', 40.421665), ('p07lpips', 0.30564913), ('p07l1', 0.44029745), ('p07lpips_all', 0.26375732), ('p07l1_all', 0.2825252), ('p08gaze_a', 4.4753256), ('p08head_a', 1.4405766), ('p08head_to_gaze', 9.008333), ('p08gaze_to_head', 5.566229), ('p08gaze_disentangle', 4.394275), ('p08head_disentangle', 4.053699), ('p08head_redirection', 32.98197), ('p08gaze_redirection', 43.430973), ('p08lpips', 0.29000336), ('p08l1', 0.48118103), ('p08lpips_all', 0.23048514), ('p08l1_all', 0.23414266), ('p09gaze_a', 5.300074), ('p09head_a', 1.354407), ('p09head_to_gaze', 8.3474455), ('p09gaze_to_head', 4.2102966), ('p09gaze_disentangle', 4.0940385), ('p09head_disentangle', 3.859794), ('p09head_redirection', 24.341566), ('p09gaze_redirection', 44.18381), ('p09lpips', 0.31610718), ('p09l1', 0.50102), ('p09lpips_all', 0.23931101), ('p09l1_all', 0.24187498), ('p10gaze_a', 5.590073), ('p10head_a', 1.2118336), ('p10head_to_gaze', 9.459128), ('p10gaze_to_head', 5.3254066), ('p10gaze_disentangle', 4.4442973), ('p10head_disentangle', 4.0351877), ('p10head_redirection', 32.299404), ('p10gaze_redirection', 38.45665), ('p10lpips', 0.32255664), ('p10l1', 0.3910656), ('p10lpips_all', 0.25352335), ('p10l1_all', 0.22798413), ('p11gaze_a', 6.119306), ('p11head_a', 1.4081688), ('p11head_to_gaze', 7.0802736), ('p11gaze_to_head', 4.69381), ('p11gaze_disentangle', 3.506787), ('p11head_disentangle', 3.7018368), ('p11head_redirection', 16.620426), ('p11gaze_redirection', 37.12821), ('p11lpips', 0.26578462), ('p11l1', 0.41995144), ('p11lpips_all', 0.19682765), ('p11l1_all', 0.18458565), ('p12gaze_a', 4.360487), ('p12head_a', 2.214383), ('p12head_to_gaze', 6.3401904), ('p12gaze_to_head', 4.3338246), ('p12gaze_disentangle', 3.458327), ('p12head_disentangle', 3.3281336), ('p12head_redirection', 16.023365), ('p12gaze_redirection', 36.07543), ('p12lpips', 0.2993296), ('p12l1', 0.475871), ('p12lpips_all', 0.23840337), ('p12l1_all', 0.24259262), ('p13gaze_a', 5.445415), ('p13head_a', 1.1366863), ('p13head_to_gaze', 8.701511), ('p13gaze_to_head', 5.20262), ('p13gaze_disentangle', 3.9624782), ('p13head_disentangle', 3.9058857), ('p13head_redirection', 28.987947), ('p13gaze_redirection', 36.819664), ('p13lpips', 0.29429168), ('p13l1', 0.43588316), ('p13lpips_all', 0.21625564), ('p13l1_all', 0.21842362), ('p14gaze_a', 7.314412), ('p14head_a', 1.5121092), ('p14head_to_gaze', 7.298435), ('p14gaze_to_head', 4.864424), ('p14gaze_disentangle', 3.599919), ('p14head_disentangle', 3.6476305), ('p14head_redirection', 18.676178), ('p14gaze_redirection', 35.88062), ('p14lpips', 0.22849062), ('p14l1', 0.4008239), ('p14lpips_all', 0.18031175), ('p14l1_all', 0.21733323)])\n"
     ]
    }
   ],
   "source": [
    "print(results)"
   ]
  },
  {
   "cell_type": "code",
   "execution_count": null,
   "metadata": {},
   "outputs": [],
   "source": []
  }
 ],
 "metadata": {
  "interpreter": {
   "hash": "0a7e8266d4960bf55ec4202778d20d6fb4fd9d14c12b2b3e2041a81f30d16324"
  },
  "kernelspec": {
   "display_name": "Python 3.8.0 64-bit ('venv38': venv)",
   "name": "python3"
  },
  "language_info": {
   "codemirror_mode": {
    "name": "ipython",
    "version": 3
   },
   "file_extension": ".py",
   "mimetype": "text/x-python",
   "name": "python",
   "nbconvert_exporter": "python",
   "pygments_lexer": "ipython3",
   "version": "3.8.0"
  },
  "orig_nbformat": 4
 },
 "nbformat": 4,
 "nbformat_minor": 2
}